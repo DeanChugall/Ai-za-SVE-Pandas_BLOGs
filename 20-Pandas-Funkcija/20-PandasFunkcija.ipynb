{
 "cells": [
  {
   "cell_type": "markdown",
   "source": [
    "---\n",
    "# Set up **PANDAS**"
   ],
   "metadata": {
    "collapsed": false,
    "pycharm": {
     "name": "#%% md\n"
    }
   }
  },
  {
   "cell_type": "code",
   "execution_count": 2,
   "outputs": [],
   "source": [
    "import numpy as np\n",
    "import pandas as pd"
   ],
   "metadata": {
    "collapsed": false,
    "pycharm": {
     "name": "#%%\n"
    }
   }
  },
  {
   "cell_type": "markdown",
   "source": [
    "# 1. **Razumevanje Podataka**"
   ],
   "metadata": {
    "collapsed": false,
    "pycharm": {
     "name": "#%% md\n"
    }
   }
  },
  {
   "cell_type": "markdown",
   "source": [
    "---\n",
    "## 1.1  **[read_csv()](https://pandas.pydata.org/pandas-docs/stable/reference/api/pandas.read_csv.html#pandas.read_csv)**"
   ],
   "metadata": {
    "collapsed": false,
    "pycharm": {
     "name": "#%% md\n"
    }
   }
  },
  {
   "cell_type": "code",
   "execution_count": 3,
   "outputs": [],
   "source": [
    "df = pd.read_csv('marketing_kampanja.csv' , sep=',' )"
   ],
   "metadata": {
    "collapsed": false,
    "pycharm": {
     "name": "#%%\n"
    }
   }
  },
  {
   "cell_type": "markdown",
   "source": [],
   "metadata": {
    "collapsed": false,
    "pycharm": {
     "name": "#%% md\n"
    }
   }
  },
  {
   "cell_type": "markdown",
   "source": [
    "---\n",
    "## 1.2 [df.head()](https://pandas.pydata.org/pandas-docs/stable/reference/api/pandas.DataFrame.head.html?highlight=head#pandas.DataFrame.head)"
   ],
   "metadata": {
    "collapsed": false,
    "pycharm": {
     "name": "#%% md\n"
    }
   }
  },
  {
   "cell_type": "code",
   "execution_count": 4,
   "outputs": [
    {
     "data": {
      "text/plain": "       ID  Year_Birth   Education Marital_Status   Income  Kidhome  Teenhome  \\\n0  5524.0      1957.0  Graduation         Single  58138.0      0.0       0.0   \n1  2174.0      1954.0  Graduation         Single  46344.0      1.0       1.0   \n2  4141.0      1965.0  Graduation       Together  71613.0      0.0       0.0   \n3  6182.0      1984.0  Graduation       Together  26646.0      1.0       0.0   \n4  5324.0      1981.0         PhD        Married  58293.0      1.0       0.0   \n\n  Dt_Customer  Recency  MntWines  ...  NumCatalogPurchases  NumStorePurchases  \\\n0  04-09-2012     58.0     635.0  ...                 10.0                4.0   \n1  08-03-2014     38.0      11.0  ...                  1.0                2.0   \n2  21-08-2013     26.0     426.0  ...                  2.0               10.0   \n3  10-02-2014     26.0      11.0  ...                  0.0                4.0   \n4  19-01-2014     94.0     173.0  ...                  3.0                6.0   \n\n   NumWebVisitsMonth  AcceptedCmp3  AcceptedCmp4  AcceptedCmp5  AcceptedCmp1  \\\n0                7.0           0.0           0.0           0.0           0.0   \n1                5.0           0.0           0.0           0.0           0.0   \n2                4.0           0.0           0.0           0.0           0.0   \n3                6.0           0.0           0.0           0.0           0.0   \n4                5.0           0.0           0.0           0.0           0.0   \n\n   AcceptedCmp2  Complain  Response  \n0           0.0       0.0       1.0  \n1           0.0       0.0       0.0  \n2           0.0       0.0       0.0  \n3           0.0       0.0       0.0  \n4           0.0       0.0       0.0  \n\n[5 rows x 27 columns]",
      "text/html": "<div>\n<style scoped>\n    .dataframe tbody tr th:only-of-type {\n        vertical-align: middle;\n    }\n\n    .dataframe tbody tr th {\n        vertical-align: top;\n    }\n\n    .dataframe thead th {\n        text-align: right;\n    }\n</style>\n<table border=\"1\" class=\"dataframe\">\n  <thead>\n    <tr style=\"text-align: right;\">\n      <th></th>\n      <th>ID</th>\n      <th>Year_Birth</th>\n      <th>Education</th>\n      <th>Marital_Status</th>\n      <th>Income</th>\n      <th>Kidhome</th>\n      <th>Teenhome</th>\n      <th>Dt_Customer</th>\n      <th>Recency</th>\n      <th>MntWines</th>\n      <th>...</th>\n      <th>NumCatalogPurchases</th>\n      <th>NumStorePurchases</th>\n      <th>NumWebVisitsMonth</th>\n      <th>AcceptedCmp3</th>\n      <th>AcceptedCmp4</th>\n      <th>AcceptedCmp5</th>\n      <th>AcceptedCmp1</th>\n      <th>AcceptedCmp2</th>\n      <th>Complain</th>\n      <th>Response</th>\n    </tr>\n  </thead>\n  <tbody>\n    <tr>\n      <th>0</th>\n      <td>5524.0</td>\n      <td>1957.0</td>\n      <td>Graduation</td>\n      <td>Single</td>\n      <td>58138.0</td>\n      <td>0.0</td>\n      <td>0.0</td>\n      <td>04-09-2012</td>\n      <td>58.0</td>\n      <td>635.0</td>\n      <td>...</td>\n      <td>10.0</td>\n      <td>4.0</td>\n      <td>7.0</td>\n      <td>0.0</td>\n      <td>0.0</td>\n      <td>0.0</td>\n      <td>0.0</td>\n      <td>0.0</td>\n      <td>0.0</td>\n      <td>1.0</td>\n    </tr>\n    <tr>\n      <th>1</th>\n      <td>2174.0</td>\n      <td>1954.0</td>\n      <td>Graduation</td>\n      <td>Single</td>\n      <td>46344.0</td>\n      <td>1.0</td>\n      <td>1.0</td>\n      <td>08-03-2014</td>\n      <td>38.0</td>\n      <td>11.0</td>\n      <td>...</td>\n      <td>1.0</td>\n      <td>2.0</td>\n      <td>5.0</td>\n      <td>0.0</td>\n      <td>0.0</td>\n      <td>0.0</td>\n      <td>0.0</td>\n      <td>0.0</td>\n      <td>0.0</td>\n      <td>0.0</td>\n    </tr>\n    <tr>\n      <th>2</th>\n      <td>4141.0</td>\n      <td>1965.0</td>\n      <td>Graduation</td>\n      <td>Together</td>\n      <td>71613.0</td>\n      <td>0.0</td>\n      <td>0.0</td>\n      <td>21-08-2013</td>\n      <td>26.0</td>\n      <td>426.0</td>\n      <td>...</td>\n      <td>2.0</td>\n      <td>10.0</td>\n      <td>4.0</td>\n      <td>0.0</td>\n      <td>0.0</td>\n      <td>0.0</td>\n      <td>0.0</td>\n      <td>0.0</td>\n      <td>0.0</td>\n      <td>0.0</td>\n    </tr>\n    <tr>\n      <th>3</th>\n      <td>6182.0</td>\n      <td>1984.0</td>\n      <td>Graduation</td>\n      <td>Together</td>\n      <td>26646.0</td>\n      <td>1.0</td>\n      <td>0.0</td>\n      <td>10-02-2014</td>\n      <td>26.0</td>\n      <td>11.0</td>\n      <td>...</td>\n      <td>0.0</td>\n      <td>4.0</td>\n      <td>6.0</td>\n      <td>0.0</td>\n      <td>0.0</td>\n      <td>0.0</td>\n      <td>0.0</td>\n      <td>0.0</td>\n      <td>0.0</td>\n      <td>0.0</td>\n    </tr>\n    <tr>\n      <th>4</th>\n      <td>5324.0</td>\n      <td>1981.0</td>\n      <td>PhD</td>\n      <td>Married</td>\n      <td>58293.0</td>\n      <td>1.0</td>\n      <td>0.0</td>\n      <td>19-01-2014</td>\n      <td>94.0</td>\n      <td>173.0</td>\n      <td>...</td>\n      <td>3.0</td>\n      <td>6.0</td>\n      <td>5.0</td>\n      <td>0.0</td>\n      <td>0.0</td>\n      <td>0.0</td>\n      <td>0.0</td>\n      <td>0.0</td>\n      <td>0.0</td>\n      <td>0.0</td>\n    </tr>\n  </tbody>\n</table>\n<p>5 rows × 27 columns</p>\n</div>"
     },
     "execution_count": 4,
     "metadata": {},
     "output_type": "execute_result"
    }
   ],
   "source": [
    "df.head()"
   ],
   "metadata": {
    "collapsed": false,
    "pycharm": {
     "name": "#%%\n"
    }
   }
  },
  {
   "cell_type": "code",
   "execution_count": 5,
   "outputs": [
    {
     "data": {
      "text/plain": "       ID  Year_Birth   Education Marital_Status   Income  Kidhome  Teenhome  \\\n0  5524.0      1957.0  Graduation         Single  58138.0      0.0       0.0   \n1  2174.0      1954.0  Graduation         Single  46344.0      1.0       1.0   \n2  4141.0      1965.0  Graduation       Together  71613.0      0.0       0.0   \n3  6182.0      1984.0  Graduation       Together  26646.0      1.0       0.0   \n4  5324.0      1981.0         PhD        Married  58293.0      1.0       0.0   \n5  7446.0      1967.0      Master       Together  62513.0      0.0       1.0   \n6   965.0      1971.0  Graduation       Divorced  55635.0      0.0       1.0   \n7  6177.0      1985.0         PhD        Married  33454.0      1.0       0.0   \n8  4855.0      1974.0         PhD       Together  30351.0      1.0       0.0   \n9  5899.0      1950.0         PhD       Together   5648.0      1.0       1.0   \n\n  Dt_Customer  Recency  MntWines  ...  NumCatalogPurchases  NumStorePurchases  \\\n0  04-09-2012     58.0     635.0  ...                 10.0                4.0   \n1  08-03-2014     38.0      11.0  ...                  1.0                2.0   \n2  21-08-2013     26.0     426.0  ...                  2.0               10.0   \n3  10-02-2014     26.0      11.0  ...                  0.0                4.0   \n4  19-01-2014     94.0     173.0  ...                  3.0                6.0   \n5  09-09-2013     16.0     520.0  ...                  4.0               10.0   \n6  13-11-2012     34.0     235.0  ...                  3.0                7.0   \n7  08-05-2013     32.0      76.0  ...                  0.0                4.0   \n8  06-06-2013     19.0      14.0  ...                  0.0                2.0   \n9  13-03-2014     68.0      28.0  ...                  0.0                0.0   \n\n   NumWebVisitsMonth  AcceptedCmp3  AcceptedCmp4  AcceptedCmp5  AcceptedCmp1  \\\n0                7.0           0.0           0.0           0.0           0.0   \n1                5.0           0.0           0.0           0.0           0.0   \n2                4.0           0.0           0.0           0.0           0.0   \n3                6.0           0.0           0.0           0.0           0.0   \n4                5.0           0.0           0.0           0.0           0.0   \n5                6.0           0.0           0.0           0.0           0.0   \n6                6.0           0.0           0.0           0.0           0.0   \n7                8.0           0.0           0.0           0.0           0.0   \n8                9.0           0.0           0.0           0.0           0.0   \n9               20.0           1.0           0.0           0.0           0.0   \n\n   AcceptedCmp2  Complain  Response  \n0           0.0       0.0       1.0  \n1           0.0       0.0       0.0  \n2           0.0       0.0       0.0  \n3           0.0       0.0       0.0  \n4           0.0       0.0       0.0  \n5           0.0       0.0       0.0  \n6           0.0       0.0       0.0  \n7           0.0       0.0       0.0  \n8           0.0       0.0       1.0  \n9           0.0       0.0       0.0  \n\n[10 rows x 27 columns]",
      "text/html": "<div>\n<style scoped>\n    .dataframe tbody tr th:only-of-type {\n        vertical-align: middle;\n    }\n\n    .dataframe tbody tr th {\n        vertical-align: top;\n    }\n\n    .dataframe thead th {\n        text-align: right;\n    }\n</style>\n<table border=\"1\" class=\"dataframe\">\n  <thead>\n    <tr style=\"text-align: right;\">\n      <th></th>\n      <th>ID</th>\n      <th>Year_Birth</th>\n      <th>Education</th>\n      <th>Marital_Status</th>\n      <th>Income</th>\n      <th>Kidhome</th>\n      <th>Teenhome</th>\n      <th>Dt_Customer</th>\n      <th>Recency</th>\n      <th>MntWines</th>\n      <th>...</th>\n      <th>NumCatalogPurchases</th>\n      <th>NumStorePurchases</th>\n      <th>NumWebVisitsMonth</th>\n      <th>AcceptedCmp3</th>\n      <th>AcceptedCmp4</th>\n      <th>AcceptedCmp5</th>\n      <th>AcceptedCmp1</th>\n      <th>AcceptedCmp2</th>\n      <th>Complain</th>\n      <th>Response</th>\n    </tr>\n  </thead>\n  <tbody>\n    <tr>\n      <th>0</th>\n      <td>5524.0</td>\n      <td>1957.0</td>\n      <td>Graduation</td>\n      <td>Single</td>\n      <td>58138.0</td>\n      <td>0.0</td>\n      <td>0.0</td>\n      <td>04-09-2012</td>\n      <td>58.0</td>\n      <td>635.0</td>\n      <td>...</td>\n      <td>10.0</td>\n      <td>4.0</td>\n      <td>7.0</td>\n      <td>0.0</td>\n      <td>0.0</td>\n      <td>0.0</td>\n      <td>0.0</td>\n      <td>0.0</td>\n      <td>0.0</td>\n      <td>1.0</td>\n    </tr>\n    <tr>\n      <th>1</th>\n      <td>2174.0</td>\n      <td>1954.0</td>\n      <td>Graduation</td>\n      <td>Single</td>\n      <td>46344.0</td>\n      <td>1.0</td>\n      <td>1.0</td>\n      <td>08-03-2014</td>\n      <td>38.0</td>\n      <td>11.0</td>\n      <td>...</td>\n      <td>1.0</td>\n      <td>2.0</td>\n      <td>5.0</td>\n      <td>0.0</td>\n      <td>0.0</td>\n      <td>0.0</td>\n      <td>0.0</td>\n      <td>0.0</td>\n      <td>0.0</td>\n      <td>0.0</td>\n    </tr>\n    <tr>\n      <th>2</th>\n      <td>4141.0</td>\n      <td>1965.0</td>\n      <td>Graduation</td>\n      <td>Together</td>\n      <td>71613.0</td>\n      <td>0.0</td>\n      <td>0.0</td>\n      <td>21-08-2013</td>\n      <td>26.0</td>\n      <td>426.0</td>\n      <td>...</td>\n      <td>2.0</td>\n      <td>10.0</td>\n      <td>4.0</td>\n      <td>0.0</td>\n      <td>0.0</td>\n      <td>0.0</td>\n      <td>0.0</td>\n      <td>0.0</td>\n      <td>0.0</td>\n      <td>0.0</td>\n    </tr>\n    <tr>\n      <th>3</th>\n      <td>6182.0</td>\n      <td>1984.0</td>\n      <td>Graduation</td>\n      <td>Together</td>\n      <td>26646.0</td>\n      <td>1.0</td>\n      <td>0.0</td>\n      <td>10-02-2014</td>\n      <td>26.0</td>\n      <td>11.0</td>\n      <td>...</td>\n      <td>0.0</td>\n      <td>4.0</td>\n      <td>6.0</td>\n      <td>0.0</td>\n      <td>0.0</td>\n      <td>0.0</td>\n      <td>0.0</td>\n      <td>0.0</td>\n      <td>0.0</td>\n      <td>0.0</td>\n    </tr>\n    <tr>\n      <th>4</th>\n      <td>5324.0</td>\n      <td>1981.0</td>\n      <td>PhD</td>\n      <td>Married</td>\n      <td>58293.0</td>\n      <td>1.0</td>\n      <td>0.0</td>\n      <td>19-01-2014</td>\n      <td>94.0</td>\n      <td>173.0</td>\n      <td>...</td>\n      <td>3.0</td>\n      <td>6.0</td>\n      <td>5.0</td>\n      <td>0.0</td>\n      <td>0.0</td>\n      <td>0.0</td>\n      <td>0.0</td>\n      <td>0.0</td>\n      <td>0.0</td>\n      <td>0.0</td>\n    </tr>\n    <tr>\n      <th>5</th>\n      <td>7446.0</td>\n      <td>1967.0</td>\n      <td>Master</td>\n      <td>Together</td>\n      <td>62513.0</td>\n      <td>0.0</td>\n      <td>1.0</td>\n      <td>09-09-2013</td>\n      <td>16.0</td>\n      <td>520.0</td>\n      <td>...</td>\n      <td>4.0</td>\n      <td>10.0</td>\n      <td>6.0</td>\n      <td>0.0</td>\n      <td>0.0</td>\n      <td>0.0</td>\n      <td>0.0</td>\n      <td>0.0</td>\n      <td>0.0</td>\n      <td>0.0</td>\n    </tr>\n    <tr>\n      <th>6</th>\n      <td>965.0</td>\n      <td>1971.0</td>\n      <td>Graduation</td>\n      <td>Divorced</td>\n      <td>55635.0</td>\n      <td>0.0</td>\n      <td>1.0</td>\n      <td>13-11-2012</td>\n      <td>34.0</td>\n      <td>235.0</td>\n      <td>...</td>\n      <td>3.0</td>\n      <td>7.0</td>\n      <td>6.0</td>\n      <td>0.0</td>\n      <td>0.0</td>\n      <td>0.0</td>\n      <td>0.0</td>\n      <td>0.0</td>\n      <td>0.0</td>\n      <td>0.0</td>\n    </tr>\n    <tr>\n      <th>7</th>\n      <td>6177.0</td>\n      <td>1985.0</td>\n      <td>PhD</td>\n      <td>Married</td>\n      <td>33454.0</td>\n      <td>1.0</td>\n      <td>0.0</td>\n      <td>08-05-2013</td>\n      <td>32.0</td>\n      <td>76.0</td>\n      <td>...</td>\n      <td>0.0</td>\n      <td>4.0</td>\n      <td>8.0</td>\n      <td>0.0</td>\n      <td>0.0</td>\n      <td>0.0</td>\n      <td>0.0</td>\n      <td>0.0</td>\n      <td>0.0</td>\n      <td>0.0</td>\n    </tr>\n    <tr>\n      <th>8</th>\n      <td>4855.0</td>\n      <td>1974.0</td>\n      <td>PhD</td>\n      <td>Together</td>\n      <td>30351.0</td>\n      <td>1.0</td>\n      <td>0.0</td>\n      <td>06-06-2013</td>\n      <td>19.0</td>\n      <td>14.0</td>\n      <td>...</td>\n      <td>0.0</td>\n      <td>2.0</td>\n      <td>9.0</td>\n      <td>0.0</td>\n      <td>0.0</td>\n      <td>0.0</td>\n      <td>0.0</td>\n      <td>0.0</td>\n      <td>0.0</td>\n      <td>1.0</td>\n    </tr>\n    <tr>\n      <th>9</th>\n      <td>5899.0</td>\n      <td>1950.0</td>\n      <td>PhD</td>\n      <td>Together</td>\n      <td>5648.0</td>\n      <td>1.0</td>\n      <td>1.0</td>\n      <td>13-03-2014</td>\n      <td>68.0</td>\n      <td>28.0</td>\n      <td>...</td>\n      <td>0.0</td>\n      <td>0.0</td>\n      <td>20.0</td>\n      <td>1.0</td>\n      <td>0.0</td>\n      <td>0.0</td>\n      <td>0.0</td>\n      <td>0.0</td>\n      <td>0.0</td>\n      <td>0.0</td>\n    </tr>\n  </tbody>\n</table>\n<p>10 rows × 27 columns</p>\n</div>"
     },
     "execution_count": 5,
     "metadata": {},
     "output_type": "execute_result"
    }
   ],
   "source": [
    "df.head(10)"
   ],
   "metadata": {
    "collapsed": false,
    "pycharm": {
     "name": "#%%\n"
    }
   }
  },
  {
   "cell_type": "markdown",
   "source": [],
   "metadata": {
    "collapsed": false,
    "pycharm": {
     "name": "#%% md\n"
    }
   }
  },
  {
   "cell_type": "markdown",
   "source": [
    "---\n",
    "## 1.3 [**df.tail()**](https://pandas.pydata.org/pandas-docs/stable/reference/api/pandas.DataFrame.tail.html?highlight=tail#pandas.DataFrame.tail)"
   ],
   "metadata": {
    "collapsed": false,
    "pycharm": {
     "name": "#%% md\n"
    }
   }
  },
  {
   "cell_type": "code",
   "execution_count": 6,
   "outputs": [
    {
     "data": {
      "text/plain": "           ID  Year_Birth   Education Marital_Status    Income  Kidhome  \\\n2231   9817.0      1970.0      Master         Single   44802.0      0.0   \n2232   8080.0      1986.0  Graduation         Single   26816.0      0.0   \n2233   9432.0      1977.0  Graduation       Together  666666.0      1.0   \n2234   8372.0      1974.0  Graduation        Married   34421.0      1.0   \n2235  10870.0      1967.0  Graduation        Married   61223.0      0.0   \n2236   4001.0      1946.0         PhD       Together   64014.0      2.0   \n2237   7270.0      1981.0  Graduation       Divorced   56981.0      0.0   \n2238   8235.0      1956.0      Master       Together   69245.0      0.0   \n2239   9405.0      1954.0         PhD        Married   52869.0      1.0   \n2240   4749.0      1968.0  Graduation       Together   58554.0      1.0   \n\n      Teenhome Dt_Customer  Recency  MntWines  ...  NumCatalogPurchases  \\\n2231       0.0  21-08-2012     71.0     853.0  ...                  4.0   \n2232       0.0  17-08-2012     50.0       5.0  ...                  0.0   \n2233       0.0  02-06-2013     23.0       9.0  ...                  1.0   \n2234       0.0  01-07-2013     81.0       3.0  ...                  0.0   \n2235       1.0  13-06-2013     46.0     709.0  ...                  3.0   \n2236       1.0  10-06-2014     56.0     406.0  ...                  2.0   \n2237       0.0  25-01-2014     91.0     908.0  ...                  3.0   \n2238       1.0  24-01-2014      8.0     428.0  ...                  5.0   \n2239       1.0  15-10-2012     40.0      84.0  ...                  1.0   \n2240       1.0  26-09-2012     55.0     368.0  ...                  2.0   \n\n      NumStorePurchases  NumWebVisitsMonth  AcceptedCmp3  AcceptedCmp4  \\\n2231               12.0                8.0           0.0           0.0   \n2232                3.0                4.0           0.0           0.0   \n2233                3.0                6.0           0.0           0.0   \n2234                2.0                7.0           0.0           0.0   \n2235                4.0                5.0           0.0           0.0   \n2236                5.0                7.0           0.0           0.0   \n2237               13.0                6.0           0.0           1.0   \n2238               10.0                3.0           0.0           0.0   \n2239                4.0                7.0           0.0           0.0   \n2240                6.0                7.0           0.0           0.0   \n\n      AcceptedCmp5  AcceptedCmp1  AcceptedCmp2  Complain  Response  \n2231           0.0           0.0           0.0       0.0       0.0  \n2232           0.0           0.0           0.0       0.0       0.0  \n2233           0.0           0.0           0.0       0.0       0.0  \n2234           0.0           0.0           0.0       0.0       0.0  \n2235           0.0           0.0           0.0       0.0       0.0  \n2236           0.0           1.0           0.0       0.0       0.0  \n2237           0.0           0.0           0.0       0.0       0.0  \n2238           0.0           0.0           0.0       0.0       0.0  \n2239           0.0           0.0           0.0       0.0       1.0  \n2240           0.0           0.0           0.0       0.0       0.0  \n\n[10 rows x 27 columns]",
      "text/html": "<div>\n<style scoped>\n    .dataframe tbody tr th:only-of-type {\n        vertical-align: middle;\n    }\n\n    .dataframe tbody tr th {\n        vertical-align: top;\n    }\n\n    .dataframe thead th {\n        text-align: right;\n    }\n</style>\n<table border=\"1\" class=\"dataframe\">\n  <thead>\n    <tr style=\"text-align: right;\">\n      <th></th>\n      <th>ID</th>\n      <th>Year_Birth</th>\n      <th>Education</th>\n      <th>Marital_Status</th>\n      <th>Income</th>\n      <th>Kidhome</th>\n      <th>Teenhome</th>\n      <th>Dt_Customer</th>\n      <th>Recency</th>\n      <th>MntWines</th>\n      <th>...</th>\n      <th>NumCatalogPurchases</th>\n      <th>NumStorePurchases</th>\n      <th>NumWebVisitsMonth</th>\n      <th>AcceptedCmp3</th>\n      <th>AcceptedCmp4</th>\n      <th>AcceptedCmp5</th>\n      <th>AcceptedCmp1</th>\n      <th>AcceptedCmp2</th>\n      <th>Complain</th>\n      <th>Response</th>\n    </tr>\n  </thead>\n  <tbody>\n    <tr>\n      <th>2231</th>\n      <td>9817.0</td>\n      <td>1970.0</td>\n      <td>Master</td>\n      <td>Single</td>\n      <td>44802.0</td>\n      <td>0.0</td>\n      <td>0.0</td>\n      <td>21-08-2012</td>\n      <td>71.0</td>\n      <td>853.0</td>\n      <td>...</td>\n      <td>4.0</td>\n      <td>12.0</td>\n      <td>8.0</td>\n      <td>0.0</td>\n      <td>0.0</td>\n      <td>0.0</td>\n      <td>0.0</td>\n      <td>0.0</td>\n      <td>0.0</td>\n      <td>0.0</td>\n    </tr>\n    <tr>\n      <th>2232</th>\n      <td>8080.0</td>\n      <td>1986.0</td>\n      <td>Graduation</td>\n      <td>Single</td>\n      <td>26816.0</td>\n      <td>0.0</td>\n      <td>0.0</td>\n      <td>17-08-2012</td>\n      <td>50.0</td>\n      <td>5.0</td>\n      <td>...</td>\n      <td>0.0</td>\n      <td>3.0</td>\n      <td>4.0</td>\n      <td>0.0</td>\n      <td>0.0</td>\n      <td>0.0</td>\n      <td>0.0</td>\n      <td>0.0</td>\n      <td>0.0</td>\n      <td>0.0</td>\n    </tr>\n    <tr>\n      <th>2233</th>\n      <td>9432.0</td>\n      <td>1977.0</td>\n      <td>Graduation</td>\n      <td>Together</td>\n      <td>666666.0</td>\n      <td>1.0</td>\n      <td>0.0</td>\n      <td>02-06-2013</td>\n      <td>23.0</td>\n      <td>9.0</td>\n      <td>...</td>\n      <td>1.0</td>\n      <td>3.0</td>\n      <td>6.0</td>\n      <td>0.0</td>\n      <td>0.0</td>\n      <td>0.0</td>\n      <td>0.0</td>\n      <td>0.0</td>\n      <td>0.0</td>\n      <td>0.0</td>\n    </tr>\n    <tr>\n      <th>2234</th>\n      <td>8372.0</td>\n      <td>1974.0</td>\n      <td>Graduation</td>\n      <td>Married</td>\n      <td>34421.0</td>\n      <td>1.0</td>\n      <td>0.0</td>\n      <td>01-07-2013</td>\n      <td>81.0</td>\n      <td>3.0</td>\n      <td>...</td>\n      <td>0.0</td>\n      <td>2.0</td>\n      <td>7.0</td>\n      <td>0.0</td>\n      <td>0.0</td>\n      <td>0.0</td>\n      <td>0.0</td>\n      <td>0.0</td>\n      <td>0.0</td>\n      <td>0.0</td>\n    </tr>\n    <tr>\n      <th>2235</th>\n      <td>10870.0</td>\n      <td>1967.0</td>\n      <td>Graduation</td>\n      <td>Married</td>\n      <td>61223.0</td>\n      <td>0.0</td>\n      <td>1.0</td>\n      <td>13-06-2013</td>\n      <td>46.0</td>\n      <td>709.0</td>\n      <td>...</td>\n      <td>3.0</td>\n      <td>4.0</td>\n      <td>5.0</td>\n      <td>0.0</td>\n      <td>0.0</td>\n      <td>0.0</td>\n      <td>0.0</td>\n      <td>0.0</td>\n      <td>0.0</td>\n      <td>0.0</td>\n    </tr>\n    <tr>\n      <th>2236</th>\n      <td>4001.0</td>\n      <td>1946.0</td>\n      <td>PhD</td>\n      <td>Together</td>\n      <td>64014.0</td>\n      <td>2.0</td>\n      <td>1.0</td>\n      <td>10-06-2014</td>\n      <td>56.0</td>\n      <td>406.0</td>\n      <td>...</td>\n      <td>2.0</td>\n      <td>5.0</td>\n      <td>7.0</td>\n      <td>0.0</td>\n      <td>0.0</td>\n      <td>0.0</td>\n      <td>1.0</td>\n      <td>0.0</td>\n      <td>0.0</td>\n      <td>0.0</td>\n    </tr>\n    <tr>\n      <th>2237</th>\n      <td>7270.0</td>\n      <td>1981.0</td>\n      <td>Graduation</td>\n      <td>Divorced</td>\n      <td>56981.0</td>\n      <td>0.0</td>\n      <td>0.0</td>\n      <td>25-01-2014</td>\n      <td>91.0</td>\n      <td>908.0</td>\n      <td>...</td>\n      <td>3.0</td>\n      <td>13.0</td>\n      <td>6.0</td>\n      <td>0.0</td>\n      <td>1.0</td>\n      <td>0.0</td>\n      <td>0.0</td>\n      <td>0.0</td>\n      <td>0.0</td>\n      <td>0.0</td>\n    </tr>\n    <tr>\n      <th>2238</th>\n      <td>8235.0</td>\n      <td>1956.0</td>\n      <td>Master</td>\n      <td>Together</td>\n      <td>69245.0</td>\n      <td>0.0</td>\n      <td>1.0</td>\n      <td>24-01-2014</td>\n      <td>8.0</td>\n      <td>428.0</td>\n      <td>...</td>\n      <td>5.0</td>\n      <td>10.0</td>\n      <td>3.0</td>\n      <td>0.0</td>\n      <td>0.0</td>\n      <td>0.0</td>\n      <td>0.0</td>\n      <td>0.0</td>\n      <td>0.0</td>\n      <td>0.0</td>\n    </tr>\n    <tr>\n      <th>2239</th>\n      <td>9405.0</td>\n      <td>1954.0</td>\n      <td>PhD</td>\n      <td>Married</td>\n      <td>52869.0</td>\n      <td>1.0</td>\n      <td>1.0</td>\n      <td>15-10-2012</td>\n      <td>40.0</td>\n      <td>84.0</td>\n      <td>...</td>\n      <td>1.0</td>\n      <td>4.0</td>\n      <td>7.0</td>\n      <td>0.0</td>\n      <td>0.0</td>\n      <td>0.0</td>\n      <td>0.0</td>\n      <td>0.0</td>\n      <td>0.0</td>\n      <td>1.0</td>\n    </tr>\n    <tr>\n      <th>2240</th>\n      <td>4749.0</td>\n      <td>1968.0</td>\n      <td>Graduation</td>\n      <td>Together</td>\n      <td>58554.0</td>\n      <td>1.0</td>\n      <td>1.0</td>\n      <td>26-09-2012</td>\n      <td>55.0</td>\n      <td>368.0</td>\n      <td>...</td>\n      <td>2.0</td>\n      <td>6.0</td>\n      <td>7.0</td>\n      <td>0.0</td>\n      <td>0.0</td>\n      <td>0.0</td>\n      <td>0.0</td>\n      <td>0.0</td>\n      <td>0.0</td>\n      <td>0.0</td>\n    </tr>\n  </tbody>\n</table>\n<p>10 rows × 27 columns</p>\n</div>"
     },
     "execution_count": 6,
     "metadata": {},
     "output_type": "execute_result"
    }
   ],
   "source": [
    "df.tail(10)"
   ],
   "metadata": {
    "collapsed": false,
    "pycharm": {
     "name": "#%%\n"
    }
   }
  },
  {
   "cell_type": "markdown",
   "source": [
    "---\n",
    "\n",
    "## 1.4 [**df.info()**](https://pandas.pydata.org/pandas-docs/stable/reference/api/pandas.DataFrame.info.html?highlight=info)"
   ],
   "metadata": {
    "collapsed": false,
    "pycharm": {
     "name": "#%% md\n"
    }
   }
  },
  {
   "cell_type": "code",
   "execution_count": 7,
   "outputs": [
    {
     "name": "stdout",
     "output_type": "stream",
     "text": [
      "<class 'pandas.core.frame.DataFrame'>\n",
      "RangeIndex: 2241 entries, 0 to 2240\n",
      "Data columns (total 27 columns):\n",
      " #   Column               Non-Null Count  Dtype  \n",
      "---  ------               --------------  -----  \n",
      " 0   ID                   2241 non-null   float64\n",
      " 1   Year_Birth           2241 non-null   float64\n",
      " 2   Education            2241 non-null   object \n",
      " 3   Marital_Status       2241 non-null   object \n",
      " 4   Income               2217 non-null   float64\n",
      " 5   Kidhome              2241 non-null   float64\n",
      " 6   Teenhome             2241 non-null   float64\n",
      " 7   Dt_Customer          2241 non-null   object \n",
      " 8   Recency              2241 non-null   float64\n",
      " 9   MntWines             2241 non-null   float64\n",
      " 10  MntFruits            2241 non-null   float64\n",
      " 11  MntMeatProducts      2241 non-null   float64\n",
      " 12  MntFishProducts      2241 non-null   float64\n",
      " 13  MntSweetProducts     2241 non-null   float64\n",
      " 14  MntGoldProds         2241 non-null   float64\n",
      " 15  NumDealsPurchases    2241 non-null   float64\n",
      " 16  NumWebPurchases      2241 non-null   float64\n",
      " 17  NumCatalogPurchases  2241 non-null   float64\n",
      " 18  NumStorePurchases    2241 non-null   float64\n",
      " 19  NumWebVisitsMonth    2241 non-null   float64\n",
      " 20  AcceptedCmp3         2241 non-null   float64\n",
      " 21  AcceptedCmp4         2241 non-null   float64\n",
      " 22  AcceptedCmp5         2241 non-null   float64\n",
      " 23  AcceptedCmp1         2241 non-null   float64\n",
      " 24  AcceptedCmp2         2241 non-null   float64\n",
      " 25  Complain             2241 non-null   float64\n",
      " 26  Response             2241 non-null   float64\n",
      "dtypes: float64(24), object(3)\n",
      "memory usage: 472.8+ KB\n"
     ]
    }
   ],
   "source": [
    "df.info()"
   ],
   "metadata": {
    "collapsed": false,
    "pycharm": {
     "name": "#%%\n"
    }
   }
  },
  {
   "cell_type": "markdown",
   "source": [
    "---\n",
    "## 1.5 [df.describe()](https://pandas.pydata.org/pandas-docs/stable/reference/api/pandas.DataFrame.describe.html#pandas.DataFrame.describe)"
   ],
   "metadata": {
    "collapsed": false,
    "pycharm": {
     "name": "#%% md\n"
    }
   }
  },
  {
   "cell_type": "code",
   "execution_count": 8,
   "outputs": [
    {
     "data": {
      "text/plain": "                 ID   Year_Birth         Income      Kidhome     Teenhome  \\\ncount   2241.000000  2241.000000    2217.000000  2241.000000  2241.000000   \nmean    5591.783579  1968.805444   52250.096076     0.444444     0.506470   \nstd     3245.986281    11.981406   25167.752604     0.538406     0.544517   \nmin        0.000000  1893.000000    1730.000000     0.000000     0.000000   \n25%     2829.000000  1959.000000   35322.000000     0.000000     0.000000   \n50%     5455.000000  1970.000000   51390.000000     0.000000     0.000000   \n75%     8427.000000  1977.000000   68487.000000     1.000000     1.000000   \nmax    11191.000000  1996.000000  666666.000000     2.000000     2.000000   \n\n           Recency     MntWines    MntFruits  MntMeatProducts  \\\ncount  2241.000000  2241.000000  2241.000000      2241.000000   \nmean     49.112004   303.964302    26.301205       166.905846   \nstd      28.956255   336.524972    39.764585       225.674664   \nmin       0.000000     0.000000     0.000000         0.000000   \n25%      24.000000    24.000000     1.000000        16.000000   \n50%      49.000000   174.000000     8.000000        67.000000   \n75%      74.000000   504.000000    33.000000       232.000000   \nmax      99.000000  1493.000000   199.000000      1725.000000   \n\n       MntFishProducts  ...  NumCatalogPurchases  NumStorePurchases  \\\ncount      2241.000000  ...          2241.000000        2241.000000   \nmean         37.525658  ...             2.661758           5.790272   \nstd          54.616785  ...             2.922482           3.250235   \nmin           0.000000  ...             0.000000           0.000000   \n25%           3.000000  ...             0.000000           3.000000   \n50%          12.000000  ...             2.000000           5.000000   \n75%          50.000000  ...             4.000000           8.000000   \nmax         259.000000  ...            28.000000          13.000000   \n\n       NumWebVisitsMonth  AcceptedCmp3  AcceptedCmp4  AcceptedCmp5  \\\ncount        2241.000000   2241.000000   2241.000000   2241.000000   \nmean            5.317269      0.072735      0.074520      0.072735   \nstd             2.426364      0.259760      0.262674      0.259760   \nmin             0.000000      0.000000      0.000000      0.000000   \n25%             3.000000      0.000000      0.000000      0.000000   \n50%             6.000000      0.000000      0.000000      0.000000   \n75%             7.000000      0.000000      0.000000      0.000000   \nmax            20.000000      1.000000      1.000000      1.000000   \n\n       AcceptedCmp1  AcceptedCmp2     Complain     Response  \ncount   2241.000000   2241.000000  2241.000000  2241.000000  \nmean       0.064257      0.013387     0.009371     0.149041  \nstd        0.245265      0.114950     0.096370     0.356208  \nmin        0.000000      0.000000     0.000000     0.000000  \n25%        0.000000      0.000000     0.000000     0.000000  \n50%        0.000000      0.000000     0.000000     0.000000  \n75%        0.000000      0.000000     0.000000     0.000000  \nmax        1.000000      1.000000     1.000000     1.000000  \n\n[8 rows x 24 columns]",
      "text/html": "<div>\n<style scoped>\n    .dataframe tbody tr th:only-of-type {\n        vertical-align: middle;\n    }\n\n    .dataframe tbody tr th {\n        vertical-align: top;\n    }\n\n    .dataframe thead th {\n        text-align: right;\n    }\n</style>\n<table border=\"1\" class=\"dataframe\">\n  <thead>\n    <tr style=\"text-align: right;\">\n      <th></th>\n      <th>ID</th>\n      <th>Year_Birth</th>\n      <th>Income</th>\n      <th>Kidhome</th>\n      <th>Teenhome</th>\n      <th>Recency</th>\n      <th>MntWines</th>\n      <th>MntFruits</th>\n      <th>MntMeatProducts</th>\n      <th>MntFishProducts</th>\n      <th>...</th>\n      <th>NumCatalogPurchases</th>\n      <th>NumStorePurchases</th>\n      <th>NumWebVisitsMonth</th>\n      <th>AcceptedCmp3</th>\n      <th>AcceptedCmp4</th>\n      <th>AcceptedCmp5</th>\n      <th>AcceptedCmp1</th>\n      <th>AcceptedCmp2</th>\n      <th>Complain</th>\n      <th>Response</th>\n    </tr>\n  </thead>\n  <tbody>\n    <tr>\n      <th>count</th>\n      <td>2241.000000</td>\n      <td>2241.000000</td>\n      <td>2217.000000</td>\n      <td>2241.000000</td>\n      <td>2241.000000</td>\n      <td>2241.000000</td>\n      <td>2241.000000</td>\n      <td>2241.000000</td>\n      <td>2241.000000</td>\n      <td>2241.000000</td>\n      <td>...</td>\n      <td>2241.000000</td>\n      <td>2241.000000</td>\n      <td>2241.000000</td>\n      <td>2241.000000</td>\n      <td>2241.000000</td>\n      <td>2241.000000</td>\n      <td>2241.000000</td>\n      <td>2241.000000</td>\n      <td>2241.000000</td>\n      <td>2241.000000</td>\n    </tr>\n    <tr>\n      <th>mean</th>\n      <td>5591.783579</td>\n      <td>1968.805444</td>\n      <td>52250.096076</td>\n      <td>0.444444</td>\n      <td>0.506470</td>\n      <td>49.112004</td>\n      <td>303.964302</td>\n      <td>26.301205</td>\n      <td>166.905846</td>\n      <td>37.525658</td>\n      <td>...</td>\n      <td>2.661758</td>\n      <td>5.790272</td>\n      <td>5.317269</td>\n      <td>0.072735</td>\n      <td>0.074520</td>\n      <td>0.072735</td>\n      <td>0.064257</td>\n      <td>0.013387</td>\n      <td>0.009371</td>\n      <td>0.149041</td>\n    </tr>\n    <tr>\n      <th>std</th>\n      <td>3245.986281</td>\n      <td>11.981406</td>\n      <td>25167.752604</td>\n      <td>0.538406</td>\n      <td>0.544517</td>\n      <td>28.956255</td>\n      <td>336.524972</td>\n      <td>39.764585</td>\n      <td>225.674664</td>\n      <td>54.616785</td>\n      <td>...</td>\n      <td>2.922482</td>\n      <td>3.250235</td>\n      <td>2.426364</td>\n      <td>0.259760</td>\n      <td>0.262674</td>\n      <td>0.259760</td>\n      <td>0.245265</td>\n      <td>0.114950</td>\n      <td>0.096370</td>\n      <td>0.356208</td>\n    </tr>\n    <tr>\n      <th>min</th>\n      <td>0.000000</td>\n      <td>1893.000000</td>\n      <td>1730.000000</td>\n      <td>0.000000</td>\n      <td>0.000000</td>\n      <td>0.000000</td>\n      <td>0.000000</td>\n      <td>0.000000</td>\n      <td>0.000000</td>\n      <td>0.000000</td>\n      <td>...</td>\n      <td>0.000000</td>\n      <td>0.000000</td>\n      <td>0.000000</td>\n      <td>0.000000</td>\n      <td>0.000000</td>\n      <td>0.000000</td>\n      <td>0.000000</td>\n      <td>0.000000</td>\n      <td>0.000000</td>\n      <td>0.000000</td>\n    </tr>\n    <tr>\n      <th>25%</th>\n      <td>2829.000000</td>\n      <td>1959.000000</td>\n      <td>35322.000000</td>\n      <td>0.000000</td>\n      <td>0.000000</td>\n      <td>24.000000</td>\n      <td>24.000000</td>\n      <td>1.000000</td>\n      <td>16.000000</td>\n      <td>3.000000</td>\n      <td>...</td>\n      <td>0.000000</td>\n      <td>3.000000</td>\n      <td>3.000000</td>\n      <td>0.000000</td>\n      <td>0.000000</td>\n      <td>0.000000</td>\n      <td>0.000000</td>\n      <td>0.000000</td>\n      <td>0.000000</td>\n      <td>0.000000</td>\n    </tr>\n    <tr>\n      <th>50%</th>\n      <td>5455.000000</td>\n      <td>1970.000000</td>\n      <td>51390.000000</td>\n      <td>0.000000</td>\n      <td>0.000000</td>\n      <td>49.000000</td>\n      <td>174.000000</td>\n      <td>8.000000</td>\n      <td>67.000000</td>\n      <td>12.000000</td>\n      <td>...</td>\n      <td>2.000000</td>\n      <td>5.000000</td>\n      <td>6.000000</td>\n      <td>0.000000</td>\n      <td>0.000000</td>\n      <td>0.000000</td>\n      <td>0.000000</td>\n      <td>0.000000</td>\n      <td>0.000000</td>\n      <td>0.000000</td>\n    </tr>\n    <tr>\n      <th>75%</th>\n      <td>8427.000000</td>\n      <td>1977.000000</td>\n      <td>68487.000000</td>\n      <td>1.000000</td>\n      <td>1.000000</td>\n      <td>74.000000</td>\n      <td>504.000000</td>\n      <td>33.000000</td>\n      <td>232.000000</td>\n      <td>50.000000</td>\n      <td>...</td>\n      <td>4.000000</td>\n      <td>8.000000</td>\n      <td>7.000000</td>\n      <td>0.000000</td>\n      <td>0.000000</td>\n      <td>0.000000</td>\n      <td>0.000000</td>\n      <td>0.000000</td>\n      <td>0.000000</td>\n      <td>0.000000</td>\n    </tr>\n    <tr>\n      <th>max</th>\n      <td>11191.000000</td>\n      <td>1996.000000</td>\n      <td>666666.000000</td>\n      <td>2.000000</td>\n      <td>2.000000</td>\n      <td>99.000000</td>\n      <td>1493.000000</td>\n      <td>199.000000</td>\n      <td>1725.000000</td>\n      <td>259.000000</td>\n      <td>...</td>\n      <td>28.000000</td>\n      <td>13.000000</td>\n      <td>20.000000</td>\n      <td>1.000000</td>\n      <td>1.000000</td>\n      <td>1.000000</td>\n      <td>1.000000</td>\n      <td>1.000000</td>\n      <td>1.000000</td>\n      <td>1.000000</td>\n    </tr>\n  </tbody>\n</table>\n<p>8 rows × 24 columns</p>\n</div>"
     },
     "execution_count": 8,
     "metadata": {},
     "output_type": "execute_result"
    }
   ],
   "source": [
    "df.describe()"
   ],
   "metadata": {
    "collapsed": false,
    "pycharm": {
     "name": "#%%\n"
    }
   }
  },
  {
   "cell_type": "code",
   "execution_count": 9,
   "outputs": [
    {
     "data": {
      "text/plain": "                  ID   Year_Birth   Education Marital_Status         Income  \\\ncount    2241.000000  2241.000000        2241           2241    2217.000000   \nunique           NaN          NaN           5              8            NaN   \ntop              NaN          NaN  Graduation        Married            NaN   \nfreq             NaN          NaN        1128            864            NaN   \nmean     5591.783579  1968.805444         NaN            NaN   52250.096076   \nstd      3245.986281    11.981406         NaN            NaN   25167.752604   \nmin         0.000000  1893.000000         NaN            NaN    1730.000000   \n25%      2829.000000  1959.000000         NaN            NaN   35322.000000   \n50%      5455.000000  1970.000000         NaN            NaN   51390.000000   \n75%      8427.000000  1977.000000         NaN            NaN   68487.000000   \nmax     11191.000000  1996.000000         NaN            NaN  666666.000000   \n\n            Kidhome     Teenhome Dt_Customer      Recency     MntWines  ...  \\\ncount   2241.000000  2241.000000        2241  2241.000000  2241.000000  ...   \nunique          NaN          NaN         663          NaN          NaN  ...   \ntop             NaN          NaN  31-08-2012          NaN          NaN  ...   \nfreq            NaN          NaN          12          NaN          NaN  ...   \nmean       0.444444     0.506470         NaN    49.112004   303.964302  ...   \nstd        0.538406     0.544517         NaN    28.956255   336.524972  ...   \nmin        0.000000     0.000000         NaN     0.000000     0.000000  ...   \n25%        0.000000     0.000000         NaN    24.000000    24.000000  ...   \n50%        0.000000     0.000000         NaN    49.000000   174.000000  ...   \n75%        1.000000     1.000000         NaN    74.000000   504.000000  ...   \nmax        2.000000     2.000000         NaN    99.000000  1493.000000  ...   \n\n        NumCatalogPurchases  NumStorePurchases  NumWebVisitsMonth  \\\ncount           2241.000000        2241.000000        2241.000000   \nunique                  NaN                NaN                NaN   \ntop                     NaN                NaN                NaN   \nfreq                    NaN                NaN                NaN   \nmean               2.661758           5.790272           5.317269   \nstd                2.922482           3.250235           2.426364   \nmin                0.000000           0.000000           0.000000   \n25%                0.000000           3.000000           3.000000   \n50%                2.000000           5.000000           6.000000   \n75%                4.000000           8.000000           7.000000   \nmax               28.000000          13.000000          20.000000   \n\n        AcceptedCmp3  AcceptedCmp4  AcceptedCmp5  AcceptedCmp1  AcceptedCmp2  \\\ncount    2241.000000   2241.000000   2241.000000   2241.000000   2241.000000   \nunique           NaN           NaN           NaN           NaN           NaN   \ntop              NaN           NaN           NaN           NaN           NaN   \nfreq             NaN           NaN           NaN           NaN           NaN   \nmean        0.072735      0.074520      0.072735      0.064257      0.013387   \nstd         0.259760      0.262674      0.259760      0.245265      0.114950   \nmin         0.000000      0.000000      0.000000      0.000000      0.000000   \n25%         0.000000      0.000000      0.000000      0.000000      0.000000   \n50%         0.000000      0.000000      0.000000      0.000000      0.000000   \n75%         0.000000      0.000000      0.000000      0.000000      0.000000   \nmax         1.000000      1.000000      1.000000      1.000000      1.000000   \n\n           Complain     Response  \ncount   2241.000000  2241.000000  \nunique          NaN          NaN  \ntop             NaN          NaN  \nfreq            NaN          NaN  \nmean       0.009371     0.149041  \nstd        0.096370     0.356208  \nmin        0.000000     0.000000  \n25%        0.000000     0.000000  \n50%        0.000000     0.000000  \n75%        0.000000     0.000000  \nmax        1.000000     1.000000  \n\n[11 rows x 27 columns]",
      "text/html": "<div>\n<style scoped>\n    .dataframe tbody tr th:only-of-type {\n        vertical-align: middle;\n    }\n\n    .dataframe tbody tr th {\n        vertical-align: top;\n    }\n\n    .dataframe thead th {\n        text-align: right;\n    }\n</style>\n<table border=\"1\" class=\"dataframe\">\n  <thead>\n    <tr style=\"text-align: right;\">\n      <th></th>\n      <th>ID</th>\n      <th>Year_Birth</th>\n      <th>Education</th>\n      <th>Marital_Status</th>\n      <th>Income</th>\n      <th>Kidhome</th>\n      <th>Teenhome</th>\n      <th>Dt_Customer</th>\n      <th>Recency</th>\n      <th>MntWines</th>\n      <th>...</th>\n      <th>NumCatalogPurchases</th>\n      <th>NumStorePurchases</th>\n      <th>NumWebVisitsMonth</th>\n      <th>AcceptedCmp3</th>\n      <th>AcceptedCmp4</th>\n      <th>AcceptedCmp5</th>\n      <th>AcceptedCmp1</th>\n      <th>AcceptedCmp2</th>\n      <th>Complain</th>\n      <th>Response</th>\n    </tr>\n  </thead>\n  <tbody>\n    <tr>\n      <th>count</th>\n      <td>2241.000000</td>\n      <td>2241.000000</td>\n      <td>2241</td>\n      <td>2241</td>\n      <td>2217.000000</td>\n      <td>2241.000000</td>\n      <td>2241.000000</td>\n      <td>2241</td>\n      <td>2241.000000</td>\n      <td>2241.000000</td>\n      <td>...</td>\n      <td>2241.000000</td>\n      <td>2241.000000</td>\n      <td>2241.000000</td>\n      <td>2241.000000</td>\n      <td>2241.000000</td>\n      <td>2241.000000</td>\n      <td>2241.000000</td>\n      <td>2241.000000</td>\n      <td>2241.000000</td>\n      <td>2241.000000</td>\n    </tr>\n    <tr>\n      <th>unique</th>\n      <td>NaN</td>\n      <td>NaN</td>\n      <td>5</td>\n      <td>8</td>\n      <td>NaN</td>\n      <td>NaN</td>\n      <td>NaN</td>\n      <td>663</td>\n      <td>NaN</td>\n      <td>NaN</td>\n      <td>...</td>\n      <td>NaN</td>\n      <td>NaN</td>\n      <td>NaN</td>\n      <td>NaN</td>\n      <td>NaN</td>\n      <td>NaN</td>\n      <td>NaN</td>\n      <td>NaN</td>\n      <td>NaN</td>\n      <td>NaN</td>\n    </tr>\n    <tr>\n      <th>top</th>\n      <td>NaN</td>\n      <td>NaN</td>\n      <td>Graduation</td>\n      <td>Married</td>\n      <td>NaN</td>\n      <td>NaN</td>\n      <td>NaN</td>\n      <td>31-08-2012</td>\n      <td>NaN</td>\n      <td>NaN</td>\n      <td>...</td>\n      <td>NaN</td>\n      <td>NaN</td>\n      <td>NaN</td>\n      <td>NaN</td>\n      <td>NaN</td>\n      <td>NaN</td>\n      <td>NaN</td>\n      <td>NaN</td>\n      <td>NaN</td>\n      <td>NaN</td>\n    </tr>\n    <tr>\n      <th>freq</th>\n      <td>NaN</td>\n      <td>NaN</td>\n      <td>1128</td>\n      <td>864</td>\n      <td>NaN</td>\n      <td>NaN</td>\n      <td>NaN</td>\n      <td>12</td>\n      <td>NaN</td>\n      <td>NaN</td>\n      <td>...</td>\n      <td>NaN</td>\n      <td>NaN</td>\n      <td>NaN</td>\n      <td>NaN</td>\n      <td>NaN</td>\n      <td>NaN</td>\n      <td>NaN</td>\n      <td>NaN</td>\n      <td>NaN</td>\n      <td>NaN</td>\n    </tr>\n    <tr>\n      <th>mean</th>\n      <td>5591.783579</td>\n      <td>1968.805444</td>\n      <td>NaN</td>\n      <td>NaN</td>\n      <td>52250.096076</td>\n      <td>0.444444</td>\n      <td>0.506470</td>\n      <td>NaN</td>\n      <td>49.112004</td>\n      <td>303.964302</td>\n      <td>...</td>\n      <td>2.661758</td>\n      <td>5.790272</td>\n      <td>5.317269</td>\n      <td>0.072735</td>\n      <td>0.074520</td>\n      <td>0.072735</td>\n      <td>0.064257</td>\n      <td>0.013387</td>\n      <td>0.009371</td>\n      <td>0.149041</td>\n    </tr>\n    <tr>\n      <th>std</th>\n      <td>3245.986281</td>\n      <td>11.981406</td>\n      <td>NaN</td>\n      <td>NaN</td>\n      <td>25167.752604</td>\n      <td>0.538406</td>\n      <td>0.544517</td>\n      <td>NaN</td>\n      <td>28.956255</td>\n      <td>336.524972</td>\n      <td>...</td>\n      <td>2.922482</td>\n      <td>3.250235</td>\n      <td>2.426364</td>\n      <td>0.259760</td>\n      <td>0.262674</td>\n      <td>0.259760</td>\n      <td>0.245265</td>\n      <td>0.114950</td>\n      <td>0.096370</td>\n      <td>0.356208</td>\n    </tr>\n    <tr>\n      <th>min</th>\n      <td>0.000000</td>\n      <td>1893.000000</td>\n      <td>NaN</td>\n      <td>NaN</td>\n      <td>1730.000000</td>\n      <td>0.000000</td>\n      <td>0.000000</td>\n      <td>NaN</td>\n      <td>0.000000</td>\n      <td>0.000000</td>\n      <td>...</td>\n      <td>0.000000</td>\n      <td>0.000000</td>\n      <td>0.000000</td>\n      <td>0.000000</td>\n      <td>0.000000</td>\n      <td>0.000000</td>\n      <td>0.000000</td>\n      <td>0.000000</td>\n      <td>0.000000</td>\n      <td>0.000000</td>\n    </tr>\n    <tr>\n      <th>25%</th>\n      <td>2829.000000</td>\n      <td>1959.000000</td>\n      <td>NaN</td>\n      <td>NaN</td>\n      <td>35322.000000</td>\n      <td>0.000000</td>\n      <td>0.000000</td>\n      <td>NaN</td>\n      <td>24.000000</td>\n      <td>24.000000</td>\n      <td>...</td>\n      <td>0.000000</td>\n      <td>3.000000</td>\n      <td>3.000000</td>\n      <td>0.000000</td>\n      <td>0.000000</td>\n      <td>0.000000</td>\n      <td>0.000000</td>\n      <td>0.000000</td>\n      <td>0.000000</td>\n      <td>0.000000</td>\n    </tr>\n    <tr>\n      <th>50%</th>\n      <td>5455.000000</td>\n      <td>1970.000000</td>\n      <td>NaN</td>\n      <td>NaN</td>\n      <td>51390.000000</td>\n      <td>0.000000</td>\n      <td>0.000000</td>\n      <td>NaN</td>\n      <td>49.000000</td>\n      <td>174.000000</td>\n      <td>...</td>\n      <td>2.000000</td>\n      <td>5.000000</td>\n      <td>6.000000</td>\n      <td>0.000000</td>\n      <td>0.000000</td>\n      <td>0.000000</td>\n      <td>0.000000</td>\n      <td>0.000000</td>\n      <td>0.000000</td>\n      <td>0.000000</td>\n    </tr>\n    <tr>\n      <th>75%</th>\n      <td>8427.000000</td>\n      <td>1977.000000</td>\n      <td>NaN</td>\n      <td>NaN</td>\n      <td>68487.000000</td>\n      <td>1.000000</td>\n      <td>1.000000</td>\n      <td>NaN</td>\n      <td>74.000000</td>\n      <td>504.000000</td>\n      <td>...</td>\n      <td>4.000000</td>\n      <td>8.000000</td>\n      <td>7.000000</td>\n      <td>0.000000</td>\n      <td>0.000000</td>\n      <td>0.000000</td>\n      <td>0.000000</td>\n      <td>0.000000</td>\n      <td>0.000000</td>\n      <td>0.000000</td>\n    </tr>\n    <tr>\n      <th>max</th>\n      <td>11191.000000</td>\n      <td>1996.000000</td>\n      <td>NaN</td>\n      <td>NaN</td>\n      <td>666666.000000</td>\n      <td>2.000000</td>\n      <td>2.000000</td>\n      <td>NaN</td>\n      <td>99.000000</td>\n      <td>1493.000000</td>\n      <td>...</td>\n      <td>28.000000</td>\n      <td>13.000000</td>\n      <td>20.000000</td>\n      <td>1.000000</td>\n      <td>1.000000</td>\n      <td>1.000000</td>\n      <td>1.000000</td>\n      <td>1.000000</td>\n      <td>1.000000</td>\n      <td>1.000000</td>\n    </tr>\n  </tbody>\n</table>\n<p>11 rows × 27 columns</p>\n</div>"
     },
     "execution_count": 9,
     "metadata": {},
     "output_type": "execute_result"
    }
   ],
   "source": [
    "df.describe(include='all')"
   ],
   "metadata": {
    "collapsed": false,
    "pycharm": {
     "name": "#%%\n"
    }
   }
  },
  {
   "cell_type": "markdown",
   "source": [
    "---\n",
    "## 1.6  [df.isnull()](https://pandas.pydata.org/pandas-docs/stable/reference/api/pandas.DataFrame.isnull.html?highlight=isnull#pandas.DataFrame.isnull)"
   ],
   "metadata": {
    "collapsed": false,
    "pycharm": {
     "name": "#%% md\n"
    }
   }
  },
  {
   "cell_type": "code",
   "execution_count": 10,
   "outputs": [
    {
     "data": {
      "text/plain": "ID                      0\nYear_Birth              0\nEducation               0\nMarital_Status          0\nIncome                 24\nKidhome                 0\nTeenhome                0\nDt_Customer             0\nRecency                 0\nMntWines                0\nMntFruits               0\nMntMeatProducts         0\nMntFishProducts         0\nMntSweetProducts        0\nMntGoldProds            0\nNumDealsPurchases       0\nNumWebPurchases         0\nNumCatalogPurchases     0\nNumStorePurchases       0\nNumWebVisitsMonth       0\nAcceptedCmp3            0\nAcceptedCmp4            0\nAcceptedCmp5            0\nAcceptedCmp1            0\nAcceptedCmp2            0\nComplain                0\nResponse                0\ndtype: int64"
     },
     "execution_count": 10,
     "metadata": {},
     "output_type": "execute_result"
    }
   ],
   "source": [
    "df.isnull().sum()"
   ],
   "metadata": {
    "collapsed": false,
    "pycharm": {
     "name": "#%%\n"
    }
   }
  },
  {
   "cell_type": "markdown",
   "source": [
    "---\n",
    "\n",
    "## 1.7 [**df.duplicated()**](https://pandas.pydata.org/pandas-docs/stable/reference/api/pandas.DataFrame.duplicated.html?highlight=duplicated#pandas.DataFrame.duplicated)"
   ],
   "metadata": {
    "collapsed": false,
    "pycharm": {
     "name": "#%% md\n"
    }
   }
  },
  {
   "cell_type": "code",
   "execution_count": 11,
   "outputs": [
    {
     "data": {
      "text/plain": "0       False\n1       False\n2       False\n3       False\n4       False\n        ...  \n2236    False\n2237    False\n2238    False\n2239    False\n2240     True\nLength: 2241, dtype: bool"
     },
     "execution_count": 11,
     "metadata": {},
     "output_type": "execute_result"
    }
   ],
   "source": [
    "df.duplicated()"
   ],
   "metadata": {
    "collapsed": false,
    "pycharm": {
     "name": "#%%\n"
    }
   }
  },
  {
   "cell_type": "code",
   "execution_count": 12,
   "outputs": [
    {
     "data": {
      "text/plain": "          ID  Year_Birth   Education Marital_Status   Income  Kidhome  \\\n2225  4749.0      1968.0  Graduation       Together  58554.0      1.0   \n2240  4749.0      1968.0  Graduation       Together  58554.0      1.0   \n\n      Teenhome Dt_Customer  Recency  MntWines  ...  NumCatalogPurchases  \\\n2225       1.0  26-09-2012     55.0     368.0  ...                  2.0   \n2240       1.0  26-09-2012     55.0     368.0  ...                  2.0   \n\n      NumStorePurchases  NumWebVisitsMonth  AcceptedCmp3  AcceptedCmp4  \\\n2225                6.0                7.0           0.0           0.0   \n2240                6.0                7.0           0.0           0.0   \n\n      AcceptedCmp5  AcceptedCmp1  AcceptedCmp2  Complain  Response  \n2225           0.0           0.0           0.0       0.0       0.0  \n2240           0.0           0.0           0.0       0.0       0.0  \n\n[2 rows x 27 columns]",
      "text/html": "<div>\n<style scoped>\n    .dataframe tbody tr th:only-of-type {\n        vertical-align: middle;\n    }\n\n    .dataframe tbody tr th {\n        vertical-align: top;\n    }\n\n    .dataframe thead th {\n        text-align: right;\n    }\n</style>\n<table border=\"1\" class=\"dataframe\">\n  <thead>\n    <tr style=\"text-align: right;\">\n      <th></th>\n      <th>ID</th>\n      <th>Year_Birth</th>\n      <th>Education</th>\n      <th>Marital_Status</th>\n      <th>Income</th>\n      <th>Kidhome</th>\n      <th>Teenhome</th>\n      <th>Dt_Customer</th>\n      <th>Recency</th>\n      <th>MntWines</th>\n      <th>...</th>\n      <th>NumCatalogPurchases</th>\n      <th>NumStorePurchases</th>\n      <th>NumWebVisitsMonth</th>\n      <th>AcceptedCmp3</th>\n      <th>AcceptedCmp4</th>\n      <th>AcceptedCmp5</th>\n      <th>AcceptedCmp1</th>\n      <th>AcceptedCmp2</th>\n      <th>Complain</th>\n      <th>Response</th>\n    </tr>\n  </thead>\n  <tbody>\n    <tr>\n      <th>2225</th>\n      <td>4749.0</td>\n      <td>1968.0</td>\n      <td>Graduation</td>\n      <td>Together</td>\n      <td>58554.0</td>\n      <td>1.0</td>\n      <td>1.0</td>\n      <td>26-09-2012</td>\n      <td>55.0</td>\n      <td>368.0</td>\n      <td>...</td>\n      <td>2.0</td>\n      <td>6.0</td>\n      <td>7.0</td>\n      <td>0.0</td>\n      <td>0.0</td>\n      <td>0.0</td>\n      <td>0.0</td>\n      <td>0.0</td>\n      <td>0.0</td>\n      <td>0.0</td>\n    </tr>\n    <tr>\n      <th>2240</th>\n      <td>4749.0</td>\n      <td>1968.0</td>\n      <td>Graduation</td>\n      <td>Together</td>\n      <td>58554.0</td>\n      <td>1.0</td>\n      <td>1.0</td>\n      <td>26-09-2012</td>\n      <td>55.0</td>\n      <td>368.0</td>\n      <td>...</td>\n      <td>2.0</td>\n      <td>6.0</td>\n      <td>7.0</td>\n      <td>0.0</td>\n      <td>0.0</td>\n      <td>0.0</td>\n      <td>0.0</td>\n      <td>0.0</td>\n      <td>0.0</td>\n      <td>0.0</td>\n    </tr>\n  </tbody>\n</table>\n<p>2 rows × 27 columns</p>\n</div>"
     },
     "execution_count": 12,
     "metadata": {},
     "output_type": "execute_result"
    }
   ],
   "source": [
    "df[df.duplicated(keep=False)]"
   ],
   "metadata": {
    "collapsed": false,
    "pycharm": {
     "name": "#%%\n"
    }
   }
  },
  {
   "cell_type": "markdown",
   "source": [
    "# 2. **Čišćenje Podataka**"
   ],
   "metadata": {
    "collapsed": false,
    "pycharm": {
     "name": "#%% md\n"
    }
   }
  },
  {
   "cell_type": "markdown",
   "source": [
    "## 2.1 [**df.dropna()**](https://pandas.pydata.org/pandas-docs/stable/reference/api/pandas.DataFrame.dropna.html?highlight=dropna#pandas.DataFrame.dropna)"
   ],
   "metadata": {
    "collapsed": false,
    "pycharm": {
     "name": "#%% md\n"
    }
   }
  },
  {
   "cell_type": "code",
   "execution_count": 13,
   "outputs": [],
   "source": [
    "df_bez_null_vrednosti = df.dropna()"
   ],
   "metadata": {
    "collapsed": false,
    "pycharm": {
     "name": "#%%\n"
    }
   }
  },
  {
   "cell_type": "markdown",
   "source": [
    "#### Provera da li u Data Frame-u 'df_bez_null_vrednosti' ima Nula vrednosti"
   ],
   "metadata": {
    "collapsed": false,
    "pycharm": {
     "name": "#%% md\n"
    }
   }
  },
  {
   "cell_type": "code",
   "execution_count": 14,
   "outputs": [
    {
     "data": {
      "text/plain": "ID                     0\nYear_Birth             0\nEducation              0\nMarital_Status         0\nIncome                 0\nKidhome                0\nTeenhome               0\nDt_Customer            0\nRecency                0\nMntWines               0\nMntFruits              0\nMntMeatProducts        0\nMntFishProducts        0\nMntSweetProducts       0\nMntGoldProds           0\nNumDealsPurchases      0\nNumWebPurchases        0\nNumCatalogPurchases    0\nNumStorePurchases      0\nNumWebVisitsMonth      0\nAcceptedCmp3           0\nAcceptedCmp4           0\nAcceptedCmp5           0\nAcceptedCmp1           0\nAcceptedCmp2           0\nComplain               0\nResponse               0\ndtype: int64"
     },
     "execution_count": 14,
     "metadata": {},
     "output_type": "execute_result"
    }
   ],
   "source": [
    "df_bez_null_vrednosti.isnull().sum() # Proveri sada da li ima NULA vrednosti u kolonama"
   ],
   "metadata": {
    "collapsed": false,
    "pycharm": {
     "name": "#%%\n"
    }
   }
  },
  {
   "cell_type": "markdown",
   "source": [
    "---\n",
    "## 2.2 [**df.fillna()**](https://pandas.pydata.org/pandas-docs/stable/reference/api/pandas.DataFrame.fillna.html?highlight=fillna#pandas.DataFrame.fillna)"
   ],
   "metadata": {
    "collapsed": false,
    "pycharm": {
     "name": "#%% md\n"
    }
   }
  },
  {
   "cell_type": "code",
   "execution_count": 21,
   "outputs": [],
   "source": [
    "df_mean = df.Income.mean()"
   ],
   "metadata": {
    "collapsed": false,
    "pycharm": {
     "name": "#%%\n"
    }
   }
  },
  {
   "cell_type": "code",
   "execution_count": 22,
   "outputs": [],
   "source": [
    "df['Income'].fillna(df_mean, inplace=True)"
   ],
   "metadata": {
    "collapsed": false,
    "pycharm": {
     "name": "#%%\n"
    }
   }
  },
  {
   "cell_type": "code",
   "execution_count": 23,
   "outputs": [
    {
     "data": {
      "text/plain": "0    58138.0\n1    46344.0\n2    71613.0\n3    26646.0\n4    58293.0\nName: Income, dtype: float64"
     },
     "execution_count": 23,
     "metadata": {},
     "output_type": "execute_result"
    }
   ],
   "source": [
    "df['Income'].head()"
   ],
   "metadata": {
    "collapsed": false,
    "pycharm": {
     "name": "#%%\n"
    }
   }
  },
  {
   "cell_type": "markdown",
   "source": [
    "---\n",
    "## 2.3 [**drop_duplicates()**](https://pandas.pydata.org/pandas-docs/stable/reference/api/pandas.DataFrame.drop_duplicates.html?highlight=drop_duplicates#pandas.DataFrame.drop_duplicates)"
   ],
   "metadata": {
    "collapsed": false,
    "pycharm": {
     "name": "#%% md\n"
    }
   }
  },
  {
   "cell_type": "code",
   "execution_count": 24,
   "outputs": [],
   "source": [
    "df.drop_duplicates(inplace=True)"
   ],
   "metadata": {
    "collapsed": false,
    "pycharm": {
     "name": "#%%\n"
    }
   }
  },
  {
   "cell_type": "code",
   "execution_count": 25,
   "outputs": [
    {
     "data": {
      "text/plain": "Empty DataFrame\nColumns: [ID, Year_Birth, Education, Marital_Status, Income, Kidhome, Teenhome, Dt_Customer, Recency, MntWines, MntFruits, MntMeatProducts, MntFishProducts, MntSweetProducts, MntGoldProds, NumDealsPurchases, NumWebPurchases, NumCatalogPurchases, NumStorePurchases, NumWebVisitsMonth, AcceptedCmp3, AcceptedCmp4, AcceptedCmp5, AcceptedCmp1, AcceptedCmp2, Complain, Response]\nIndex: []\n\n[0 rows x 27 columns]",
      "text/html": "<div>\n<style scoped>\n    .dataframe tbody tr th:only-of-type {\n        vertical-align: middle;\n    }\n\n    .dataframe tbody tr th {\n        vertical-align: top;\n    }\n\n    .dataframe thead th {\n        text-align: right;\n    }\n</style>\n<table border=\"1\" class=\"dataframe\">\n  <thead>\n    <tr style=\"text-align: right;\">\n      <th></th>\n      <th>ID</th>\n      <th>Year_Birth</th>\n      <th>Education</th>\n      <th>Marital_Status</th>\n      <th>Income</th>\n      <th>Kidhome</th>\n      <th>Teenhome</th>\n      <th>Dt_Customer</th>\n      <th>Recency</th>\n      <th>MntWines</th>\n      <th>...</th>\n      <th>NumCatalogPurchases</th>\n      <th>NumStorePurchases</th>\n      <th>NumWebVisitsMonth</th>\n      <th>AcceptedCmp3</th>\n      <th>AcceptedCmp4</th>\n      <th>AcceptedCmp5</th>\n      <th>AcceptedCmp1</th>\n      <th>AcceptedCmp2</th>\n      <th>Complain</th>\n      <th>Response</th>\n    </tr>\n  </thead>\n  <tbody>\n  </tbody>\n</table>\n<p>0 rows × 27 columns</p>\n</div>"
     },
     "execution_count": 25,
     "metadata": {},
     "output_type": "execute_result"
    }
   ],
   "source": [
    "df[df.duplicated(keep=False)]"
   ],
   "metadata": {
    "collapsed": false,
    "pycharm": {
     "name": "#%%\n"
    }
   }
  },
  {
   "cell_type": "markdown",
   "source": [
    "---\n",
    "## 2.4 [**to_datetime()**](https://pandas.pydata.org/pandas-docs/stable/reference/api/pandas.to_datetime.html?highlight=to_datetime)"
   ],
   "metadata": {
    "collapsed": false,
    "pycharm": {
     "name": "#%% md\n"
    }
   }
  },
  {
   "cell_type": "code",
   "execution_count": 50,
   "outputs": [],
   "source": [
    "df['Dt_Customer'] =  pd.to_datetime(df['Dt_Customer'], format=\"%m/%d/%Y\")"
   ],
   "metadata": {
    "collapsed": false,
    "pycharm": {
     "name": "#%%\n"
    }
   }
  },
  {
   "cell_type": "code",
   "execution_count": 51,
   "outputs": [
    {
     "data": {
      "text/plain": "0      2012-04-09\n1      2014-08-03\n2      2013-08-21\n3      2014-10-02\n4      2014-01-19\n          ...    \n2235   2013-06-13\n2236   2014-10-06\n2237   2014-01-25\n2238   2014-01-24\n2239   2012-10-15\nName: Dt_Customer, Length: 2240, dtype: datetime64[ns]"
     },
     "execution_count": 51,
     "metadata": {},
     "output_type": "execute_result"
    }
   ],
   "source": [
    "df.Dt_Customer"
   ],
   "metadata": {
    "collapsed": false,
    "pycharm": {
     "name": "#%%\n"
    }
   }
  },
  {
   "cell_type": "markdown",
   "source": [
    "# 3.0 Analiza i Manipulacija sa Podacima\n",
    "---"
   ],
   "metadata": {
    "collapsed": false,
    "pycharm": {
     "name": "#%% md\n"
    }
   }
  },
  {
   "cell_type": "code",
   "execution_count": 52,
   "outputs": [],
   "source": [],
   "metadata": {
    "collapsed": false,
    "pycharm": {
     "name": "#%%\n"
    }
   }
  },
  {
   "cell_type": "markdown",
   "source": [
    "## 3.1 [**value_counts()**](https://pandas.pydata.org/pandas-docs/stable/reference/api/pandas.DataFrame.value_counts.html?highlight=value_counts#pandas.DataFrame.value_counts)"
   ],
   "metadata": {
    "collapsed": false,
    "pycharm": {
     "name": "#%% md\n"
    }
   }
  },
  {
   "cell_type": "code",
   "execution_count": 54,
   "outputs": [
    {
     "data": {
      "text/plain": "Graduation    1127\nPhD            486\nMaster         370\n2n Cycle       203\nBasic           54\nName: Education, dtype: int64"
     },
     "execution_count": 54,
     "metadata": {},
     "output_type": "execute_result"
    }
   ],
   "source": [
    "df.Education.value_counts()"
   ],
   "metadata": {
    "collapsed": false,
    "pycharm": {
     "name": "#%%\n"
    }
   }
  },
  {
   "cell_type": "markdown",
   "source": [
    "---\n",
    "\n",
    "## 3.2 [**unique()**](https://pandas.pydata.org/pandas-docs/stable/reference/api/pandas.Series.unique.html?highlight=unique#pandas.Series.unique)"
   ],
   "metadata": {
    "collapsed": false,
    "pycharm": {
     "name": "#%% md\n"
    }
   }
  },
  {
   "cell_type": "code",
   "execution_count": 55,
   "outputs": [
    {
     "data": {
      "text/plain": "array(['Graduation', 'PhD', 'Master', 'Basic', '2n Cycle'], dtype=object)"
     },
     "execution_count": 55,
     "metadata": {},
     "output_type": "execute_result"
    }
   ],
   "source": [
    "df.Education.unique()"
   ],
   "metadata": {
    "collapsed": false,
    "pycharm": {
     "name": "#%%\n"
    }
   }
  },
  {
   "cell_type": "code",
   "execution_count": null,
   "outputs": [],
   "source": [],
   "metadata": {
    "collapsed": false,
    "pycharm": {
     "name": "#%%\n"
    }
   }
  }
 ],
 "metadata": {
  "kernelspec": {
   "name": "pandas-kurs",
   "language": "python",
   "display_name": "pandas-kurs"
  },
  "language_info": {
   "codemirror_mode": {
    "name": "ipython",
    "version": 2
   },
   "file_extension": ".py",
   "mimetype": "text/x-python",
   "name": "python",
   "nbconvert_exporter": "python",
   "pygments_lexer": "ipython2",
   "version": "2.7.6"
  }
 },
 "nbformat": 4,
 "nbformat_minor": 0
}